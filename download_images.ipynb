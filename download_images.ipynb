{
 "cells": [
  {
   "cell_type": "code",
   "execution_count": 1,
   "id": "0fa64663",
   "metadata": {},
   "outputs": [],
   "source": [
    "from simple_image_download import simple_image_download as simp"
   ]
  },
  {
   "cell_type": "code",
   "execution_count": 2,
   "id": "90b0596c",
   "metadata": {},
   "outputs": [],
   "source": [
    "response=simp.simple_image_download\n"
   ]
  },
  {
   "cell_type": "code",
   "execution_count": 3,
   "id": "4b558d16",
   "metadata": {},
   "outputs": [],
   "source": [
    "keywords= [\"potholes\"]"
   ]
  },
  {
   "cell_type": "code",
   "execution_count": 4,
   "id": "5ed08afd",
   "metadata": {},
   "outputs": [
    {
     "name": "stderr",
     "output_type": "stream",
     "text": [
      "[========================================================================] 100%\n"
     ]
    }
   ],
   "source": [
    "for kw in keywords:\n",
    "    response().download(kw,100)"
   ]
  },
  {
   "cell_type": "code",
   "execution_count": null,
   "id": "5086b22f",
   "metadata": {},
   "outputs": [],
   "source": []
  }
 ],
 "metadata": {
  "kernelspec": {
   "display_name": "Python 3 (ipykernel)",
   "language": "python",
   "name": "python3"
  },
  "language_info": {
   "codemirror_mode": {
    "name": "ipython",
    "version": 3
   },
   "file_extension": ".py",
   "mimetype": "text/x-python",
   "name": "python",
   "nbconvert_exporter": "python",
   "pygments_lexer": "ipython3",
   "version": "3.9.13"
  }
 },
 "nbformat": 4,
 "nbformat_minor": 5
}
